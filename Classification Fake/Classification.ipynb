{
 "cells": [
  {
   "cell_type": "markdown",
   "metadata": {
    "colab_type": "text",
    "id": "IH79NUZWqT0Y"
   },
   "source": [
    "## Import Libraries"
   ]
  },
  {
   "cell_type": "code",
   "execution_count": null,
   "metadata": {
    "colab": {},
    "colab_type": "code",
    "id": "-MlVp2AqPMPn"
   },
   "outputs": [],
   "source": [
    "import numpy as np\n",
    "import pandas as pd\n",
    "import matplotlib.pyplot as plt\n",
    "\n",
    "from sklearn.preprocessing import LabelEncoder\n",
    "from sklearn.model_selection import StratifiedKFold\n",
    "from sklearn.ensemble import RandomForestClassifier\n",
    "from sklearn.naive_bayes import MultinomialNB\n",
    "from sklearn.metrics import f1_score, classification_report\n",
    "\n",
    "from scipy.stats import friedmanchisquare"
   ]
  },
  {
   "cell_type": "markdown",
   "metadata": {
    "colab_type": "text",
    "id": "JQ_mnxFJqbVS"
   },
   "source": [
    "## Load Data\n",
    "**Please Provide the file path\\***"
   ]
  },
  {
   "cell_type": "code",
   "execution_count": null,
   "metadata": {
    "colab": {},
    "colab_type": "code",
    "id": "UxRcHHzcR4Oj"
   },
   "outputs": [],
   "source": [
    "data = pd.read_csv('data.csv')"
   ]
  },
  {
   "cell_type": "markdown",
   "metadata": {
    "colab_type": "text",
    "id": "05uET8XPqxXx"
   },
   "source": [
    "## Dataset Overview"
   ]
  },
  {
   "cell_type": "code",
   "execution_count": 6,
   "metadata": {
    "colab": {
     "base_uri": "https://localhost:8080/",
     "height": 561
    },
    "colab_type": "code",
    "id": "Pif-ZhL8SOOG",
    "outputId": "ccf20ae2-725b-4050-f904-77c2eb12b2c3"
   },
   "outputs": [
    {
     "name": "stdout",
     "output_type": "stream",
     "text": [
      "<class 'pandas.core.frame.DataFrame'>\n",
      "RangeIndex: 1000000 entries, 0 to 999999\n",
      "Data columns (total 7 columns):\n",
      "username             999895 non-null object\n",
      "password             999700 non-null object\n",
      "publisher            1000000 non-null object\n",
      "register_datetime    1000000 non-null object\n",
      "domain               1000000 non-null object\n",
      "partner              1000000 non-null object\n",
      "is_fake              1000000 non-null int64\n",
      "dtypes: int64(1), object(6)\n",
      "memory usage: 53.4+ MB\n",
      "\n",
      "+++ N/A values +++\n",
      "username              True\n",
      "password              True\n",
      "publisher            False\n",
      "register_datetime    False\n",
      "domain               False\n",
      "partner              False\n",
      "is_fake              False\n",
      "dtype: bool\n",
      "\n",
      " Null Values ++\n",
      "username              True\n",
      "password              True\n",
      "publisher            False\n",
      "register_datetime    False\n",
      "domain               False\n",
      "partner              False\n",
      "is_fake              False\n",
      "dtype: bool\n"
     ]
    }
   ],
   "source": [
    "info = data.info()\n",
    "\n",
    "print('\\n+++ N/A values +++')\n",
    "print(data.isna().any())\n",
    "\n",
    "print('\\n Null Values ++')\n",
    "print(data.isnull().any())"
   ]
  },
  {
   "cell_type": "markdown",
   "metadata": {
    "colab_type": "text",
    "id": "RVsQ3bLXrwya"
   },
   "source": [
    "## Data Visualization\n",
    " - Check class distribution\n",
    " - Sample distribution for fake"
   ]
  },
  {
   "cell_type": "code",
   "execution_count": 24,
   "metadata": {
    "colab": {
     "base_uri": "https://localhost:8080/",
     "height": 362
    },
    "colab_type": "code",
    "id": "7IkuIg2pQeb_",
    "outputId": "90bc19e6-fb2e-4d97-e416-9c0ff839b7fa"
   },
   "outputs": [
    {
     "data": {
      "image/png": "[encoded data removed]",
      "text/plain": [
       "<matplotlib.figure.Figure at 0x7f3e66d72588>"
      ]
     },
     "metadata": {
      "tags": []
     },
     "output_type": "display_data"
    }
   ],
   "source": [
    "# plot the distribution of classes\n",
    "plt.hist(data.is_fake,alpha=0.8)\n",
    "plt.xticks([0,1],['Real','Fake'])\n",
    "plt.title('Class Distribution')\n",
    "plt.show()"
   ]
  },
  {
   "cell_type": "code",
   "execution_count": 34,
   "metadata": {
    "colab": {
     "base_uri": "https://localhost:8080/",
     "height": 286
    },
    "colab_type": "code",
    "id": "d-e2kRvfQuEx",
    "outputId": "03608aa3-d97c-4ab3-ffd0-a05291d93c9b"
   },
   "outputs": [
    {
     "data": {
      "image/png": "[encoded data removed]",
      "text/plain": [
       "<matplotlib.figure.Figure at 0x7f3e664cd198>"
      ]
     },
     "metadata": {
      "tags": []
     },
     "output_type": "display_data"
    }
   ],
   "source": [
    "# plot distribution for fake \n",
    "fake = data[data.is_fake==1]\n",
    "uniq_ = np.unique(fake['partner'])\n",
    "\n",
    "freq_ = np.zeros(len(uniq_))\n",
    "\n",
    "for i in range(len(uniq_)):\n",
    "  freq_[i] = np.shape(fake.values[fake['partner']==uniq_[i]])[0]\n",
    "\n",
    "plt.figure(figsize=(18,4))\n",
    "plt.bar(np.arange(len(uniq_)), freq_, alpha=0.8)\n",
    "plt.xticks(np.arange(len(uniq_)),uniq_,rotation=90)\n",
    "plt.title('Partner for fake samples')\n",
    "plt.show()"
   ]
  },
  {
   "cell_type": "code",
   "execution_count": 35,
   "metadata": {
    "colab": {
     "base_uri": "https://localhost:8080/",
     "height": 317
    },
    "colab_type": "code",
    "id": "mFRxCdSu0Tqm",
    "outputId": "a086859a-fc0b-43dd-9aab-62cf2c96929a"
   },
   "outputs": [
    {
     "data": {
      "image/png": "[encoded data removed]",
      "text/plain": [
       "<matplotlib.figure.Figure at 0x7f3e663051d0>"
      ]
     },
     "metadata": {
      "tags": []
     },
     "output_type": "display_data"
    }
   ],
   "source": [
    "uniq_ = np.unique(fake['domain'])\n",
    "\n",
    "freq_ = np.zeros(len(uniq_))\n",
    "\n",
    "for i in range(len(uniq_)):\n",
    "  freq_[i] = np.shape(fake.values[fake['domain']==uniq_[i]])[0]\n",
    "\n",
    "plt.figure(figsize=(18,4))\n",
    "plt.bar(np.arange(len(uniq_)), freq_, alpha=0.8)\n",
    "plt.xticks(np.arange(len(uniq_)),uniq_,rotation=90)\n",
    "plt.title('Domain  for fake samples')\n",
    "plt.show()"
   ]
  },
  {
   "cell_type": "code",
   "execution_count": 37,
   "metadata": {
    "colab": {
     "base_uri": "https://localhost:8080/",
     "height": 280
    },
    "colab_type": "code",
    "id": "ppUsLgwgytWI",
    "outputId": "a71f064b-af16-4c5a-f36c-12e52d8bc4ca"
   },
   "outputs": [
    {
     "data": {
      "image/png": "[encoded data removed]",
      "text/plain": [
       "<matplotlib.figure.Figure at 0x7f3e66d077b8>"
      ]
     },
     "metadata": {
      "tags": []
     },
     "output_type": "display_data"
    }
   ],
   "source": [
    "uniq_ = np.unique(fake['publisher'])\n",
    "\n",
    "freq_ = np.zeros(len(uniq_))\n",
    "\n",
    "for i in range(len(uniq_)):\n",
    "  freq_[i] = np.shape(fake.values[fake['publisher']==uniq_[i]])[0]\n",
    "\n",
    "plt.figure(figsize=(18,4))\n",
    "plt.bar(np.arange(len(uniq_)), freq_, alpha=0.8)\n",
    "# plt.xticks(np.arange(len(uniq_)),rotation=90)\n",
    "plt.title('Publisher  for fake samples')\n",
    "plt.show()"
   ]
  },
  {
   "cell_type": "markdown",
   "metadata": {
    "colab_type": "text",
    "id": "XCVA1-c114pw"
   },
   "source": [
    "## Comments\n",
    " - Imbalanced classes: The classes are unqually distributed and we need to incorporate it in out analysis. Accuracy will not be good measure, so we will use F1 score.\n",
    " - Certain values are more frequent than others in the featues. A good idea would be to try naive bayesian to exploit this information using prior prababilites."
   ]
  },
  {
   "cell_type": "markdown",
   "metadata": {
    "colab_type": "text",
    "id": "YGRT1VQhshlj"
   },
   "source": [
    "## Pre-processing \n",
    " - Prepare the data for classification\n",
    " - Features we will be working with are partner, domain and publisher"
   ]
  },
  {
   "cell_type": "code",
   "execution_count": 45,
   "metadata": {
    "colab": {
     "base_uri": "https://localhost:8080/",
     "height": 323
    },
    "colab_type": "code",
    "id": "5mYuY67zSBaq",
    "outputId": "ba36a685-9768-47d3-f016-2f2d2da7a1a8"
   },
   "outputs": [
    {
     "name": "stderr",
     "output_type": "stream",
     "text": [
      "/usr/local/lib/python3.6/dist-packages/ipykernel_launcher.py:8: SettingWithCopyWarning: \n",
      "A value is trying to be set on a copy of a slice from a DataFrame.\n",
      "Try using .loc[row_indexer,col_indexer] = value instead\n",
      "\n",
      "See the caveats in the documentation: http://pandas.pydata.org/pandas-docs/stable/indexing.html#indexing-view-versus-copy\n",
      "  \n",
      "/usr/local/lib/python3.6/dist-packages/ipykernel_launcher.py:9: SettingWithCopyWarning: \n",
      "A value is trying to be set on a copy of a slice from a DataFrame.\n",
      "Try using .loc[row_indexer,col_indexer] = value instead\n",
      "\n",
      "See the caveats in the documentation: http://pandas.pydata.org/pandas-docs/stable/indexing.html#indexing-view-versus-copy\n",
      "  if __name__ == '__main__':\n",
      "/usr/local/lib/python3.6/dist-packages/ipykernel_launcher.py:10: SettingWithCopyWarning: \n",
      "A value is trying to be set on a copy of a slice from a DataFrame.\n",
      "Try using .loc[row_indexer,col_indexer] = value instead\n",
      "\n",
      "See the caveats in the documentation: http://pandas.pydata.org/pandas-docs/stable/indexing.html#indexing-view-versus-copy\n",
      "  # Remove the CWD from sys.path while we load stuff.\n"
     ]
    }
   ],
   "source": [
    "#pre-process\n",
    "publisher_encoder = LabelEncoder()\n",
    "domain_encoder = LabelEncoder()\n",
    "partner_encode = LabelEncoder()\n",
    "\n",
    "processed_data = data\n",
    "processed_data.is_copy = True\n",
    "processed_data['publisher'] = publisher_encoder.fit_transform(data['publisher'])\n",
    "processed_data['domain'] = domain_encoder.fit_transform(data['domain'])\n",
    "processed_data['partner'] = partner_encode.fit_transform(data['partner'])"
   ]
  },
  {
   "cell_type": "markdown",
   "metadata": {
    "colab_type": "text",
    "id": "2gcnF0CZ9m8g"
   },
   "source": [
    "## Random Forests"
   ]
  },
  {
   "cell_type": "code",
   "execution_count": 55,
   "metadata": {
    "colab": {
     "base_uri": "https://localhost:8080/",
     "height": 34
    },
    "colab_type": "code",
    "id": "vAxJjnhgYXtF",
    "outputId": "ee21dece-b7f2-42b6-9e21-fd8866df4b2e"
   },
   "outputs": [
    {
     "name": "stdout",
     "output_type": "stream",
     "text": [
      "[0.29656182157822997, 0.24375423590175047, 0.42708144932778686, 0.32379329356924463, 0.25098421767759466]\n"
     ]
    }
   ],
   "source": [
    "cv = StratifiedKFold(5)\n",
    "X = processed_data[['publisher','domain','partner']]\n",
    "y = processed_data['is_fake']\n",
    "\n",
    "clf_rf = RandomForestClassifier(n_jobs=-1)#,class_weight='balanced'\n",
    "score_rf = []\n",
    "for train, test in cv.split(X,y):\n",
    "  X_train = X.values[train]\n",
    "  X_test = X.values[test] \n",
    "  y_train = y.values[train] \n",
    "  y_test = y.values[test]\n",
    "  \n",
    "  clf_rf.fit(X_train,y_train)\n",
    "  \n",
    "  y_pred = clf_rf.predict(X_test)\n",
    "  \n",
    "  score_rf.append(f1_score(y_test,y_pred))\n",
    "  \n",
    "print(score_rf)"
   ]
  },
  {
   "cell_type": "code",
   "execution_count": 49,
   "metadata": {
    "colab": {
     "base_uri": "https://localhost:8080/",
     "height": 34
    },
    "colab_type": "code",
    "id": "rnyMJKKucRzK",
    "outputId": "26779333-3ece-4529-d15b-3addffe8b517"
   },
   "outputs": [
    {
     "data": {
      "text/plain": [
       "array([0.73410709, 0.04743505, 0.21845787])"
      ]
     },
     "execution_count": 49,
     "metadata": {
      "tags": []
     },
     "output_type": "execute_result"
    }
   ],
   "source": [
    "clf_rf.feature_importances_\n",
    "'''\n",
    "Comment: The random forests uses decision trees which are biased towards \n",
    "features with most categories. Domain and partner have comparatively very few\n",
    "categories than publisher (~10,000 categories). Therefore, the trained random\n",
    "forest suggests publisher as the most important feature.\n",
    "'''"
   ]
  },
  {
   "cell_type": "markdown",
   "metadata": {
    "colab_type": "text",
    "id": "WmMOOKi59rjI"
   },
   "source": [
    "## Naive Bayes"
   ]
  },
  {
   "cell_type": "code",
   "execution_count": 51,
   "metadata": {
    "colab": {
     "base_uri": "https://localhost:8080/",
     "height": 34
    },
    "colab_type": "code",
    "id": "hVfMJszFfdez",
    "outputId": "5804c7a9-ff7b-416a-9476-f0a3302eea75"
   },
   "outputs": [
    {
     "name": "stdout",
     "output_type": "stream",
     "text": [
      "[0.13279928447823297, 0.15224259009598168, 0.08761579594808323, 0.13800454803865836, 0.14666306536364976]\n"
     ]
    }
   ],
   "source": [
    "clf_nb = MultinomialNB()#,class_weight='balanced'\n",
    "score_nb = []\n",
    "for train, test in cv.split(X,y):\n",
    "  X_train = X.values[train]\n",
    "  X_test = X.values[test] \n",
    "  y_train = y.values[train] \n",
    "  y_test = y.values[test]\n",
    "  \n",
    "  clf_nb.fit(X_train,y_train)\n",
    "  \n",
    "  y_pred = clf_nb.predict(X_test)\n",
    "  \n",
    "  score_nb.append(f1_score(y_test,y_pred))\n",
    "  \n",
    "print(score_nb)"
   ]
  },
  {
   "cell_type": "markdown",
   "metadata": {
    "colab_type": "text",
    "id": "abkIFUsO91B1"
   },
   "source": [
    "## Sub-sampling\n",
    " - Clearly from the results, random forests are better than Naive Bayesian classifiers\n",
    " - Now, we will take random forests and try subsampling approaches."
   ]
  },
  {
   "cell_type": "code",
   "execution_count": 56,
   "metadata": {
    "colab": {
     "base_uri": "https://localhost:8080/",
     "height": 2261
    },
    "colab_type": "code",
    "id": "9tcQ7Jdegg2F",
    "outputId": "9b2b444b-3477-4d8d-cc91-83fd3c123887"
   },
   "outputs": [
    {
     "name": "stdout",
     "output_type": "stream",
     "text": [
      "+++++++0.1++++++++\n",
      "             precision    recall  f1-score   support\n",
      "\n",
      "          0       0.75      0.93      0.83     23100\n",
      "          1       0.88      0.63      0.73     19003\n",
      "\n",
      "avg / total       0.81      0.79      0.79     42103\n",
      "\n",
      "             precision    recall  f1-score   support\n",
      "\n",
      "          0       0.75      0.93      0.83     23100\n",
      "          1       0.88      0.62      0.73     19003\n",
      "\n",
      "avg / total       0.81      0.79      0.78     42103\n",
      "\n",
      "             precision    recall  f1-score   support\n",
      "\n",
      "          0       0.75      0.93      0.83     23099\n",
      "          1       0.88      0.63      0.73     19003\n",
      "\n",
      "avg / total       0.81      0.79      0.79     42102\n",
      "\n",
      "             precision    recall  f1-score   support\n",
      "\n",
      "          0       0.75      0.93      0.83     23099\n",
      "          1       0.87      0.62      0.73     19003\n",
      "\n",
      "avg / total       0.80      0.79      0.78     42102\n",
      "\n",
      "\n",
      " \n",
      "\n",
      "[0.7308566165182684, 0.7258274048871017, 0.7306984165950656, 0.7271945715250699]\n",
      "+++++++0.3++++++++\n",
      "             precision    recall  f1-score   support\n",
      "\n",
      "          0       0.89      0.99      0.94     69299\n",
      "          1       0.94      0.56      0.70     19003\n",
      "\n",
      "avg / total       0.90      0.90      0.89     88302\n",
      "\n",
      "             precision    recall  f1-score   support\n",
      "\n",
      "          0       0.89      0.99      0.94     69299\n",
      "          1       0.94      0.56      0.70     19003\n",
      "\n",
      "avg / total       0.90      0.90      0.89     88302\n",
      "\n",
      "             precision    recall  f1-score   support\n",
      "\n",
      "          0       0.89      0.99      0.94     69299\n",
      "          1       0.94      0.56      0.70     19003\n",
      "\n",
      "avg / total       0.90      0.90      0.89     88302\n",
      "\n",
      "             precision    recall  f1-score   support\n",
      "\n",
      "          0       0.89      0.99      0.94     69299\n",
      "          1       0.94      0.55      0.70     19003\n",
      "\n",
      "avg / total       0.90      0.90      0.89     88302\n",
      "\n",
      "\n",
      " \n",
      "\n",
      "[0.7033097315988803, 0.7008208881416278, 0.6982636017860097, 0.6966031483015741]\n",
      "+++++++0.5++++++++\n",
      "             precision    recall  f1-score   support\n",
      "\n",
      "          0       0.93      0.99      0.96    115499\n",
      "          1       0.93      0.56      0.70     19003\n",
      "\n",
      "avg / total       0.93      0.93      0.92    134502\n",
      "\n",
      "             precision    recall  f1-score   support\n",
      "\n",
      "          0       0.93      0.99      0.96    115499\n",
      "          1       0.94      0.55      0.69     19003\n",
      "\n",
      "avg / total       0.93      0.93      0.92    134502\n",
      "\n",
      "             precision    recall  f1-score   support\n",
      "\n",
      "          0       0.93      0.99      0.96    115498\n",
      "          1       0.94      0.55      0.69     19003\n",
      "\n",
      "avg / total       0.93      0.93      0.92    134501\n",
      "\n",
      "             precision    recall  f1-score   support\n",
      "\n",
      "          0       0.93      0.99      0.96    115498\n",
      "          1       0.94      0.56      0.70     19003\n",
      "\n",
      "avg / total       0.93      0.93      0.92    134501\n",
      "\n",
      "\n",
      " \n",
      "\n",
      "[0.6985529221742427, 0.6937734035855122, 0.6899996669885776, 0.6998280195793095]\n",
      "+++++++0.7++++++++\n",
      "             precision    recall  f1-score   support\n",
      "\n",
      "          0       0.95      1.00      0.97    161698\n",
      "          1       0.94      0.54      0.69     19003\n",
      "\n",
      "avg / total       0.95      0.95      0.94    180701\n",
      "\n",
      "             precision    recall  f1-score   support\n",
      "\n",
      "          0       0.95      1.00      0.97    161698\n",
      "          1       0.94      0.54      0.69     19003\n",
      "\n",
      "avg / total       0.95      0.95      0.94    180701\n",
      "\n",
      "             precision    recall  f1-score   support\n",
      "\n",
      "          0       0.95      1.00      0.97    161698\n",
      "          1       0.95      0.55      0.69     19003\n",
      "\n",
      "avg / total       0.95      0.95      0.94    180701\n",
      "\n",
      "             precision    recall  f1-score   support\n",
      "\n",
      "          0       0.95      1.00      0.97    161697\n",
      "          1       0.94      0.54      0.69     19003\n",
      "\n",
      "avg / total       0.95      0.95      0.94    180700\n",
      "\n",
      "\n",
      " \n",
      "\n",
      "[0.6893557329414515, 0.6857410567881402, 0.6945656882017794, 0.6884358288770053]\n"
     ]
    }
   ],
   "source": [
    "index_0 = np.where(y==0)[0]\n",
    "index_1 = np.where(y==1)[0]\n",
    "#sub sampling the majority class\n",
    "for i in [0.1,0.3,0.5,0.7]:\n",
    "  print('+++++++{}++++++++'.format(i))\n",
    "  #Shape of is_fake==0\n",
    "  shape_0 = np.shape(index_0)[0]\n",
    "  \n",
    "  random_sample = np.random.choice(shape_0,int(shape_0*i),replace=False)\n",
    "  \n",
    "  sub_samples = np.append(index_0[random_sample],index_1,axis=0)\n",
    "  \n",
    "  np.random.shuffle(sub_samples)\n",
    "  \n",
    "  X_sub = X.values[sub_samples]\n",
    "  y_sub = y.values[sub_samples]\n",
    "  \n",
    "  \n",
    "  \n",
    "  cv = StratifiedKFold(4)\n",
    "\n",
    "  clf_rf = RandomForestClassifier(n_jobs=-1)\n",
    "  score = []\n",
    "  for train, test in cv.split(X_sub,y_sub):\n",
    "    X_train = X_sub[train]\n",
    "    X_test = X_sub[test] \n",
    "    y_train = y_sub[train] \n",
    "    y_test = y_sub[test]\n",
    "\n",
    "    clf_rf.fit(X_train,y_train)\n",
    "\n",
    "    y_pred = clf_rf.predict(X_test)\n",
    "    print(classification_report(y_test,y_pred))\n",
    "    score.append(f1_score(y_test,y_pred))\n",
    "  print('\\n \\n')\n",
    "  print(score)"
   ]
  },
  {
   "cell_type": "markdown",
   "metadata": {
    "colab_type": "text",
    "id": "NEdVaFwwDPeP"
   },
   "source": [
    "## Comments\n",
    "The subsampling of real (is_fake = 0) for 0.1 has better results when compared to the other methods. "
   ]
  }
 ],
 "metadata": {
  "colab": {
   "collapsed_sections": [],
   "name": "iVGAnalysis.ipynb",
   "provenance": [],
   "version": "0.3.2"
  },
  "kernelspec": {
   "display_name": "Python [default]",
   "language": "python",
   "name": "python3"
  },
  "language_info": {
   "codemirror_mode": {
    "name": "ipython",
    "version": 3
   },
   "file_extension": ".py",
   "mimetype": "text/x-python",
   "name": "python",
   "nbconvert_exporter": "python",
   "pygments_lexer": "ipython3",
   "version": "3.5.4"
  }
 },
 "nbformat": 4,
 "nbformat_minor": 2
}
